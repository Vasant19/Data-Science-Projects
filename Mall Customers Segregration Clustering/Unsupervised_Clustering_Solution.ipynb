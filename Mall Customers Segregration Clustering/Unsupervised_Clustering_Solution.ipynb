{
 "cells": [
  {
   "cell_type": "markdown",
   "metadata": {},
   "source": [
    "# Clustering Agorithms"
   ]
  },
  {
   "cell_type": "markdown",
   "metadata": {
    "id": "Z_fGl8o4J2FR"
   },
   "source": [
    "## **Mall Customer Segmentation Model**"
   ]
  },
  {
   "cell_type": "markdown",
   "metadata": {},
   "source": [
    "## Project Scope:\n",
    "\n",
    "Malls are often indulged in the race to increase their customers and making sales. To achieve this task machine learning is being applied by many malls already.\n",
    "\n",
    "It is amazing to realize the fact that how machine learning can aid in such ambitions. The shopping malls make use of their customers’ data and develop ML models to target the right audience for right product marketing.\n",
    "\n",
    "\n",
    "**Your role:** Mall Customer data is an interesting dataset that has hypothetical customer data. It puts you in the shoes of the owner of a supermarket. You have customer data, and on this basis of the data, you have to divide the customers into various groups.\n",
    "\n",
    "**Goal:** Build an unsupervised clustering model to segment customers into correct groups.\n",
    "\n",
    "**Specifics:** \n",
    "\n",
    "* Machine Learning task: Clustering model \n",
    "* Target variable: N/A \n",
    "* Input variables: Refer to data dictionary below\n",
    "* Success Criteria: Cannot be validated beforehand\n"
   ]
  },
  {
   "cell_type": "markdown",
   "metadata": {},
   "source": [
    "## Data Dictionary:\n",
    "\n",
    "* **CustomerID:** Unique ID assigned to the customer\n",
    "* **Gender:** Gender of the customer\n",
    "* **Age:** Age of the customer\n",
    "* **Income:** Annual Income of the customers in 1000 dollars\n",
    "* **Spending_Score:** Score assigned between 1-100 by the mall based on customer' spending behavior"
   ]
  },
  {
   "cell_type": "markdown",
   "metadata": {
    "id": "RYOHc68YujYE"
   },
   "source": [
    "## **Data Analysis and Data Prep**"
   ]
  },
  {
   "cell_type": "markdown",
   "metadata": {
    "id": "lc_kizYoJ2FS"
   },
   "source": [
    "### Loading all the necessary packages"
   ]
  },
  {
   "cell_type": "code",
   "execution_count": null,
   "metadata": {
    "id": "AkAmUuumJ2FU"
   },
   "outputs": [],
   "source": [
    "import pandas as pd\n",
    "import numpy as np\n",
    "import seaborn as sns\n",
    "import matplotlib.pyplot as plt\n",
    "%matplotlib inline\n",
    "import warnings\n",
    "warnings.filterwarnings(\"ignore\")"
   ]
  },
  {
   "cell_type": "markdown",
   "metadata": {
    "id": "ZsJCxVwOJ2FU"
   },
   "source": [
    "### Reading the data"
   ]
  },
  {
   "cell_type": "code",
   "execution_count": null,
   "metadata": {
    "colab": {
     "base_uri": "https://localhost:8080/",
     "height": 0
    },
    "id": "LPxkm7y6J2FW",
    "outputId": "de99afc2-de77-4a01-99da-b48d266d5a19"
   },
   "outputs": [],
   "source": [
    "df = pd.read_csv('C:\\\\Users\\\\Vasan\\\\#Data science python\\\\DS LEVEL 2\\\\DSFINAL PROJECT\\\\#3UCSwk12\\\\Dataset\\\\mall_customers.csv')\n",
    "df.head()"
   ]
  },
  {
   "cell_type": "code",
   "execution_count": null,
   "metadata": {},
   "outputs": [],
   "source": [
    "# Check some quick stats of the data\n",
    "df.describe()"
   ]
  },
  {
   "cell_type": "code",
   "execution_count": null,
   "metadata": {},
   "outputs": [],
   "source": [
    "df.shape"
   ]
  },
  {
   "cell_type": "code",
   "execution_count": null,
   "metadata": {},
   "outputs": [],
   "source": [
    "# let's plot a pairplot\n",
    "sns.pairplot(df[['Age','Annual_Income','Spending_Score']])\n",
    "plt.show()"
   ]
  },
  {
   "cell_type": "markdown",
   "metadata": {},
   "source": [
    "* As a mall owner you are interested in the customer spending score. If you look at spending vs Age, you can observe that the spending score is high for customers between age 20-40, and relatively low for customers beyond 40.\n",
    "<br><br>\n",
    "* Remember, K-means clustering is sensitive to outliers. So, if you see any guilty outliers you should consider removing them."
   ]
  },
  {
   "cell_type": "code",
   "execution_count": null,
   "metadata": {},
   "outputs": [],
   "source": [
    "# import kmeans model\n",
    "from sklearn.cluster import KMeans"
   ]
  },
  {
   "cell_type": "code",
   "execution_count": null,
   "metadata": {},
   "outputs": [],
   "source": [
    "# Let' train our model on spending_score and annual_income\n",
    "kmodel = KMeans(n_clusters=5).fit(df[['Annual_Income','Spending_Score']])"
   ]
  },
  {
   "cell_type": "markdown",
   "metadata": {},
   "source": [
    "#### We will build a model with only 2 features for now to visualise it, and later we will add more feature' and use the evaluation metric silhouette measure."
   ]
  },
  {
   "cell_type": "code",
   "execution_count": null,
   "metadata": {},
   "outputs": [],
   "source": [
    "# check your cluster centers\n",
    "kmodel.cluster_centers_"
   ]
  },
  {
   "cell_type": "code",
   "execution_count": null,
   "metadata": {},
   "outputs": [],
   "source": [
    "# Check the cluster labels\n",
    "kmodel.labels_"
   ]
  },
  {
   "cell_type": "code",
   "execution_count": null,
   "metadata": {},
   "outputs": [],
   "source": [
    "# Put this data back in to the main dataframe corresponding to each observation\n",
    "df['Cluster'] = kmodel.labels_"
   ]
  },
  {
   "cell_type": "code",
   "execution_count": null,
   "metadata": {},
   "outputs": [],
   "source": [
    "# check the dataset\n",
    "df.head()"
   ]
  },
  {
   "cell_type": "code",
   "execution_count": null,
   "metadata": {},
   "outputs": [],
   "source": [
    "# check how many observations belong to each cluster\n",
    "df['Cluster'].value_counts()"
   ]
  },
  {
   "cell_type": "code",
   "execution_count": null,
   "metadata": {},
   "outputs": [],
   "source": [
    "# Let' visualize these clusters\n",
    "sns.scatterplot(x='Annual_Income', y = 'Spending_Score', data=df, hue='Cluster', palette='colorblind')\n",
    "plt.show()"
   ]
  },
  {
   "cell_type": "markdown",
   "metadata": {},
   "source": [
    "#### Visually we are able to see 5 clear clusters. Let's verify them using the Elbow and Silhouetter Method"
   ]
  },
  {
   "cell_type": "markdown",
   "metadata": {},
   "source": [
    "    "
   ]
  },
  {
   "cell_type": "markdown",
   "metadata": {},
   "source": [
    "## 1. Elbow Method"
   ]
  },
  {
   "cell_type": "markdown",
   "metadata": {},
   "source": [
    "* We will analyze clusters from 3 to 8 and calculate the WCSS scores. The WCSS scores can be used to plot the Elbow Plot.\n",
    "\n",
    "* WCSS = Within Cluster Sum of Squares"
   ]
  },
  {
   "cell_type": "code",
   "execution_count": null,
   "metadata": {},
   "outputs": [],
   "source": [
    "# try using a for loop\n",
    "k = range(3,9)\n",
    "K = []\n",
    "WCSS = []\n",
    "for i in k:\n",
    "    kmodel = KMeans(n_clusters=i).fit(df[['Annual_Income','Spending_Score']])\n",
    "    wcss_score = kmodel.inertia_\n",
    "    WCSS.append(wcss_score)\n",
    "    K.append(i)"
   ]
  },
  {
   "cell_type": "code",
   "execution_count": null,
   "metadata": {},
   "outputs": [],
   "source": [
    "K, WCSS"
   ]
  },
  {
   "cell_type": "code",
   "execution_count": null,
   "metadata": {},
   "outputs": [],
   "source": [
    "# Store the number of clusters and their respective WSS scores in a dataframe\n",
    "wss = pd.DataFrame({'cluster': K, 'WSS_Score':WCSS})\n",
    "wss"
   ]
  },
  {
   "cell_type": "code",
   "execution_count": null,
   "metadata": {},
   "outputs": [],
   "source": [
    "# Now, plot a Elbow plot\n",
    "wss.plot(x='cluster', y = 'WSS_Score')\n",
    "plt.xlabel('No. of clusters')\n",
    "plt.ylabel('WSS Score')\n",
    "plt.title('Elbow Plot')\n",
    "plt.show()"
   ]
  },
  {
   "cell_type": "markdown",
   "metadata": {},
   "source": [
    "We get 5 clusters as a best value of k using the WSS method."
   ]
  },
  {
   "cell_type": "markdown",
   "metadata": {},
   "source": [
    "    "
   ]
  },
  {
   "cell_type": "markdown",
   "metadata": {},
   "source": [
    "## 2. Silhouette Measure\n",
    "\n",
    "Check the value of K using the Silhouette Measure"
   ]
  },
  {
   "cell_type": "code",
   "execution_count": null,
   "metadata": {},
   "outputs": [],
   "source": [
    "# import silhouette_score \n",
    "from sklearn.metrics import silhouette_score"
   ]
  },
  {
   "cell_type": "code",
   "execution_count": null,
   "metadata": {},
   "outputs": [],
   "source": [
    "# same as above, calculate sihouetter score for each cluster using a for loop\n",
    "\n",
    "# try using a for loop\n",
    "k = range(3,9) # to loop from 3 to 8\n",
    "K = []         # to store the values of k\n",
    "ss = []        # to store respective silhouetter scores\n",
    "for i in k:\n",
    "    kmodel = KMeans(n_clusters=i,).fit(df[['Annual_Income','Spending_Score']], )\n",
    "    ypred = kmodel.labels_\n",
    "    sil_score = silhouette_score(df[['Annual_Income','Spending_Score']], ypred)\n",
    "    K.append(i)\n",
    "    ss.append(sil_score)"
   ]
  },
  {
   "cell_type": "code",
   "execution_count": null,
   "metadata": {},
   "outputs": [],
   "source": [
    "ss"
   ]
  },
  {
   "cell_type": "code",
   "execution_count": null,
   "metadata": {},
   "outputs": [],
   "source": [
    "# Store the number of clusters and their respective silhouette scores in a dataframe\n",
    "wss['Silhouette_Score']=ss"
   ]
  },
  {
   "cell_type": "code",
   "execution_count": null,
   "metadata": {},
   "outputs": [],
   "source": [
    "wss"
   ]
  },
  {
   "cell_type": "markdown",
   "metadata": {},
   "source": [
    "### Silhouette score is between -1 to +1\n",
    "\n",
    "closer to +1 means the clusters are better"
   ]
  },
  {
   "cell_type": "code",
   "execution_count": null,
   "metadata": {
    "scrolled": true
   },
   "outputs": [],
   "source": [
    "# Now, plot the silhouette plot\n",
    "wss.plot(x='cluster', y='Silhouette_Score')\n",
    "plt.xlabel('No. of clusters')\n",
    "plt.ylabel('Silhouette Score')\n",
    "plt.title('Silhouette Plot')\n",
    "plt.show()"
   ]
  },
  {
   "cell_type": "markdown",
   "metadata": {},
   "source": [
    "    "
   ]
  },
  {
   "cell_type": "markdown",
   "metadata": {},
   "source": [
    "#### Conclusion: Both Elbow and Silhouette methods gave the optimal value of k=5"
   ]
  },
  {
   "cell_type": "markdown",
   "metadata": {},
   "source": [
    "    "
   ]
  },
  {
   "cell_type": "markdown",
   "metadata": {},
   "source": [
    "## Now use all the available features and use the k-means model. \n",
    "\n",
    "* Remember, now you cannot visualise the clusters with more than 2 features.\n",
    "* So, the optimal number of clusters can be only determined by Elbow and Silhouette methods."
   ]
  },
  {
   "cell_type": "code",
   "execution_count": null,
   "metadata": {},
   "outputs": [],
   "source": [
    "# Train a model on 'Age','Annual_Income','Spending_Score' features\n",
    "k = range(3,9)\n",
    "K = []\n",
    "ss = []\n",
    "for i in k:\n",
    "    kmodel = KMeans(n_clusters=i,).fit(df[['Age','Annual_Income','Spending_Score']], )\n",
    "    ypred = kmodel.labels_\n",
    "    sil_score = silhouette_score(df[['Age','Annual_Income','Spending_Score']], ypred)\n",
    "    K.append(i)\n",
    "    ss.append(sil_score)"
   ]
  },
  {
   "cell_type": "code",
   "execution_count": null,
   "metadata": {},
   "outputs": [],
   "source": [
    "# Store the number of clusters and their respective silhouette scores in a dataframe\n",
    "Variables3 = pd.DataFrame({'cluster': K, 'Silhouette_Score':ss})\n",
    "Variables3"
   ]
  },
  {
   "cell_type": "code",
   "execution_count": null,
   "metadata": {},
   "outputs": [],
   "source": [
    "# Now, plot the silhouette plot\n",
    "Variables3.plot(x='cluster', y='Silhouette_Score')\n",
    "plt.title(\"Kmeans with 3 features\")"
   ]
  },
  {
   "cell_type": "markdown",
   "metadata": {},
   "source": [
    "    "
   ]
  },
  {
   "cell_type": "markdown",
   "metadata": {},
   "source": [
    "#### Conclusion: With 3 features we now have the optimal value of k=6"
   ]
  }
 ],
 "metadata": {
  "colab": {
   "collapsed_sections": [
    "RYOHc68YujYE",
    "lc_kizYoJ2FS",
    "ZsJCxVwOJ2FU",
    "vQniuFLiJ2FZ",
    "Iid-Mm7SvKLH",
    "kO38zz_lvQlb",
    "dcVJD8thJ2Fo",
    "WU_fkGPkJ2Fo",
    "O6Li3YCgJ2Fq",
    "IvmLln6PJ2F0",
    "1i5o-mJxJ2F1",
    "8VR2DLkQJ2F5",
    "pQ6brzE7J2F_",
    "hFMuvW1uJ2Gb",
    "6jkwgRPuQDMl",
    "I-1mdGanQO3N",
    "05_n-tl3J2Gh",
    "GcrbeHLgJ2Gl",
    "_Q2od2oZJ2Gm",
    "5V1nnqq2J2Gs",
    "I6LhGTQoJ2Gy",
    "9VxTAromSFOq",
    "-W0I9QpctKVK",
    "5lZqtS1yJ2G5",
    "FIFI3J9hJ2G7"
   ],
   "name": "Project_Code.ipynb",
   "provenance": []
  },
  "kernelspec": {
   "display_name": "Python 3 (ipykernel)",
   "language": "python",
   "name": "python3"
  },
  "language_info": {
   "codemirror_mode": {
    "name": "ipython",
    "version": 3
   },
   "file_extension": ".py",
   "mimetype": "text/x-python",
   "name": "python",
   "nbconvert_exporter": "python",
   "pygments_lexer": "ipython3",
   "version": "3.11.9"
  }
 },
 "nbformat": 4,
 "nbformat_minor": 1
}
